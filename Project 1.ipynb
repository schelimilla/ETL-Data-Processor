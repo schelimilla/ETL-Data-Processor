{
 "cells": [
  {
   "cell_type": "markdown",
   "id": "18c6fe41",
   "metadata": {},
   "source": [
    "#### This cell imports necessary libraries in order for the code to work when using imported functions."
   ]
  },
  {
   "cell_type": "code",
   "execution_count": 410,
   "id": "e5ea00aa",
   "metadata": {},
   "outputs": [],
   "source": [
    "import os\n",
    "import pandas as pd\n",
    "\n",
    "import numpy\n",
    "import pymysql\n",
    "import mysql.connector\n",
    "from sqlalchemy import create_engine"
   ]
  },
  {
   "cell_type": "markdown",
   "id": "e3ce5df7",
   "metadata": {},
   "source": [
    "#### This cell gets the current directory, and reads a local csv data file."
   ]
  },
  {
   "cell_type": "code",
   "execution_count": 411,
   "id": "0854fcbf",
   "metadata": {
    "scrolled": true
   },
   "outputs": [],
   "source": [
    "data_dir = os.path.join(os.getcwd())\n",
    "data_file = os.path.join(data_dir, 'dogs_cleaned.csv')\n",
    "\n",
    "df = pd.read_csv(data_file, header=0, index_col=1)\n",
    "#df.head()"
   ]
  },
  {
   "cell_type": "markdown",
   "id": "9692b386",
   "metadata": {},
   "source": [
    "#### This cell allows the user to interact with the data and choose which columns of information are relevant to them using the input method. The user enters the columns of data they want to see as list separated with commas (no spaces)."
   ]
  },
  {
   "cell_type": "code",
   "execution_count": 412,
   "id": "b7257540",
   "metadata": {},
   "outputs": [
    {
     "name": "stdout",
     "output_type": "stream",
     "text": [
      "Please choose what information you would like to see about each dog breed.\n",
      "These are the column names:\n",
      "\n",
      "Dog Size, Dog Breed Group, Height, Weight, Life Span, Adaptability, Adapts Well To Apartment Living, \n",
      "Good For Novice Owners, Sensitivity Level, Tolerates Being Alone, Tolerates Cold Weather, Tolerates Hot Weather, \n",
      "All Around Friendliness, Affectionate With Family, Kid-Friendly, Dog Friendly, Friendly Towards Strangers,\n",
      "Health And Grooming Needs, Amount Of Shedding, Drooling Potential, Easy To Groom, General Health, Potential For Weight Gain,\n",
      "Size, Trainability, Easy To Train, Intelligence, Potential For Mouthiness, Prey Drive, Tendency To Bark Or Howl,\n",
      "Wanderlust Potential, Physical Needs, Energy Level, Intensity, Exercise Needs, Potential For Playfulness\n",
      "\n",
      "NOTE: Please enter the column names separated by commas with no spaces before and after the comma\n",
      "An example input would be: Dog Size,Height,Weight,Life Span\n",
      "Please choose which columns of information you would like to see: Height,Weight,Tolerates Being Alone,Amount Of Shedding,Drooling Potential,Easy To Train\n",
      "Your selected columns are: ['Height', 'Weight', 'Tolerates Being Alone', 'Amount Of Shedding', 'Drooling Potential', 'Easy To Train']\n"
     ]
    }
   ],
   "source": [
    "print(\"Please choose what information you would like to see about each dog breed.\")\n",
    "print(\"These are the column names:\")\n",
    "col_names = \"\"\"\n",
    "Dog Size, Dog Breed Group, Height, Weight, Life Span, Adaptability, Adapts Well To Apartment Living, \n",
    "Good For Novice Owners, Sensitivity Level, Tolerates Being Alone, Tolerates Cold Weather, Tolerates Hot Weather, \n",
    "All Around Friendliness, Affectionate With Family, Kid-Friendly, Dog Friendly, Friendly Towards Strangers,\n",
    "Health And Grooming Needs, Amount Of Shedding, Drooling Potential, Easy To Groom, General Health, Potential For Weight Gain,\n",
    "Size, Trainability, Easy To Train, Intelligence, Potential For Mouthiness, Prey Drive, Tendency To Bark Or Howl,\n",
    "Wanderlust Potential, Physical Needs, Energy Level, Intensity, Exercise Needs, Potential For Playfulness\n",
    "\"\"\"\n",
    "print(col_names)\n",
    "print(\"NOTE: Please enter the column names separated by commas with no spaces before and after the comma\")\n",
    "print(\"An example input would be: Dog Size,Height,Weight,Life Span\")\n",
    "select_cols = input(\"Please choose which columns of information you would like to see: \")\n",
    "select_cols_list = select_cols.split(\",\")\n",
    "print(\"Your selected columns are:\", select_cols_list)"
   ]
  },
  {
   "cell_type": "markdown",
   "id": "19165779",
   "metadata": {},
   "source": [
    "#### This cell uses a try/catch to make sure the user entered column names that are in the data set with no spelling mistakes abiding by the syntax. The code in this cell catches these errors and tells the user what to do if this happens."
   ]
  },
  {
   "cell_type": "code",
   "execution_count": 413,
   "id": "1bb07e5e",
   "metadata": {},
   "outputs": [],
   "source": [
    "try:\n",
    "    breed_id = numpy.arange(0, 391)\n",
    "    df1 = df.get(['Breed Name'])\n",
    "    df2 = df.get(select_cols_list)\n",
    "    df = df1.join(df2, lsuffix='_caller', rsuffix='_other')\n",
    "    df.insert(0, 'breed_id', breed_id, True)\n",
    "except:\n",
    "    print(\"You did not enter the column names correctly or abide by the syntax!\")\n",
    "    print(\"Please rerun the cell above and re-enter the information.\")\n",
    "    \n",
    "    \n",
    "# while retry == True:\n",
    "#     select_cols = input(\"Please choose which columns of information you would like to see: \")\n",
    "#     select_cols_list = select_cols.split(\",\")\n",
    "#     column_input_check()\n"
   ]
  },
  {
   "cell_type": "markdown",
   "id": "53487905",
   "metadata": {},
   "source": [
    "#### This cell uses input methods to ask the user to enter information regarding their local instance of MySQL server in an attempt to connect to their server."
   ]
  },
  {
   "cell_type": "code",
   "execution_count": 414,
   "id": "fc9275a3",
   "metadata": {},
   "outputs": [
    {
     "name": "stdout",
     "output_type": "stream",
     "text": [
      "The following statements are regarding your local instance of MySQL server running on your device.\n",
      "Please enter the host name: localhost\n",
      "Please enter the host ip address (default value is 127.0.0.1): 127.0.0.1\n",
      "Please enter the port number: 3306\n",
      "Please enter the user id: root\n",
      "Please enter the password: $33cw@L4dB8s\n"
     ]
    }
   ],
   "source": [
    "# host_name = \"localhost\"\n",
    "print(\"The following statements are regarding your local instance of MySQL server running on your device.\")\n",
    "host_name = input(\"Please enter the host name: \")\n",
    "# host_ip = \"127.0.0.1\"\n",
    "host_ip = input(\"Please enter the host ip address (default value is 127.0.0.1): \")\n",
    "# port = \"3306\"\n",
    "port = input(\"Please enter the port number: \")\n",
    "# user_id = \"root\"\n",
    "user_id = input(\"Please enter the user id: \")\n",
    "# pwd = \"$33cw@L4dB8s\"\n",
    "pwd = input(\"Please enter the password: \")\n",
    "dst_dbname = \"dog_breeds\""
   ]
  },
  {
   "cell_type": "markdown",
   "id": "c349dfd9",
   "metadata": {},
   "source": [
    "#### This cell uses a try/catch to check that it was able to successfully connect to a local instance of MySQL server on the user's laptop. If it couldn't connect successfully, it tells the user what the error may be and what to do to enter their information again."
   ]
  },
  {
   "cell_type": "code",
   "execution_count": 415,
   "id": "110e4d20",
   "metadata": {},
   "outputs": [],
   "source": [
    "try:\n",
    "    conn_str = f\"mysql+pymysql://{user_id}:{pwd}@{host_name}\"\n",
    "    sqlEngine = create_engine(conn_str, pool_recycle=3600)\n",
    "\n",
    "    sqlEngine.execute(f\"DROP DATABASE IF EXISTS `{dst_dbname}`;\")\n",
    "    sqlEngine.execute(f\"CREATE DATABASE `{dst_dbname}`;\")\n",
    "    sqlEngine.execute(f\"USE {dst_dbname};\")\n",
    "except:\n",
    "    print(\"Unable to connect to your local instance of MySQL. Please make sure your SQL server is up and running and all information you have entered is correct! Re-run the above cell to re-enter your information.\")"
   ]
  },
  {
   "cell_type": "markdown",
   "id": "7f8a92d9",
   "metadata": {},
   "source": [
    "#### This cell defines the set_dataframe method that takes in a user id, password, host name, database name, dataframe name, primary key column, and database operation to connect to the local instance of MySQL and perform the indicated operation."
   ]
  },
  {
   "cell_type": "code",
   "execution_count": 416,
   "id": "52535ba6",
   "metadata": {},
   "outputs": [],
   "source": [
    "def set_dataframe(user_id, pwd, host_name, db_name, df, table_name, pk_column, db_operation):\n",
    "    conn_str = f\"mysql+pymysql://{user_id}:{pwd}@{host_name}/{db_name}\"\n",
    "    sqlEngine = create_engine(conn_str, pool_recycle=3600)\n",
    "    connection = sqlEngine.connect()\n",
    "    \n",
    "#     if db_operation == \"insert\":\n",
    "#         #df.to_sql(table_name, con=connection, index=False, if_exists='replace')\n",
    "#         sqlEngine.execute(f\"ALTER TABLE {table_name} ADD PRIMARY KEY ('{pk_column}');\")\n",
    "#          #sqlEngine.execute(f\"ALTER TABLE {table_name} ADD PRIMARY KEY ({pk_column});\")\n",
    "#         #print(f\"ALTER TABLE {table_name} ADD PRIMARY KEY ('{pk_column}');\")\n",
    "    if db_operation == \"insert\":\n",
    "        df.to_sql(table_name, con=connection, index=False, if_exists='replace')\n",
    "        sqlEngine.execute(f\"ALTER TABLE {table_name} ADD PRIMARY KEY ({pk_column});\")\n",
    "            \n",
    "    elif db_operation == \"update\":\n",
    "        df.to_sql(table_name, con=connection, index=False, if_exists='append')\n",
    "    \n",
    "    connection.close()"
   ]
  },
  {
   "cell_type": "markdown",
   "id": "8387b734",
   "metadata": {},
   "source": [
    "#### This cell contains code that sets the database operation as insert and defines a list of tables to be inserted into MySQL."
   ]
  },
  {
   "cell_type": "code",
   "execution_count": 417,
   "id": "96309e29",
   "metadata": {},
   "outputs": [],
   "source": [
    "db_operation = \"insert\"\n",
    "\n",
    "tables = [('dog_info', df, 'breed_id')]"
   ]
  },
  {
   "cell_type": "markdown",
   "id": "199472b4",
   "metadata": {},
   "source": [
    "#### This cell contains code to insert the dataframe into MySQL as a table with the specified primary key. It is enclosed in a try/catch to make sure there were no errors in the previous step and if it successfully inserts the dataframe into MySQL, it will provide the user with a sample query to view the table."
   ]
  },
  {
   "cell_type": "code",
   "execution_count": 418,
   "id": "6689040b",
   "metadata": {},
   "outputs": [
    {
     "name": "stdout",
     "output_type": "stream",
     "text": [
      "Hooray! A dataframe has successfully been inserted into your local instance of MySQL!\n",
      "    Type the following query to view the table: SELECT * FROM dog_breeds.dog_info\n",
      "    It should contain all the information you specified for each dog breed.\n"
     ]
    }
   ],
   "source": [
    "try:\n",
    "    for table_name, dataframe, primary_key in tables:\n",
    "        set_dataframe(user_id, pwd, host_name, dst_dbname, dataframe, table_name, primary_key, db_operation)\n",
    "    print(\"\"\"Hooray! A dataframe has successfully been inserted into your local instance of MySQL!\n",
    "    Type the following query to view the table: SELECT * FROM dog_breeds.dog_info\n",
    "    It should contain all the information you specified for each dog breed.\n",
    "    Note: You may need to refresh your schemas to see the dog_breeds schema.\"\"\")\n",
    "except:\n",
    "    print(\"Error inserting dataframe into your local instance of MySQL! Make sure there are no other errors in the previous steps.\")"
   ]
  },
  {
   "cell_type": "markdown",
   "id": "b76db1c6",
   "metadata": {},
   "source": [
    "#### This cell uses the shape method to print the number of rows and columns in the table."
   ]
  },
  {
   "cell_type": "code",
   "execution_count": 419,
   "id": "6c2f6bd8",
   "metadata": {},
   "outputs": [
    {
     "name": "stdout",
     "output_type": "stream",
     "text": [
      "There are 391 rows(records) of data\n",
      "There are 8 columns of data\n"
     ]
    }
   ],
   "source": [
    "# print(df.shape)\n",
    "print(\"There are\", df.shape[0], \"rows(records) of data\")\n",
    "print(\"There are\", df.shape[1], \"columns of data\")"
   ]
  },
  {
   "cell_type": "code",
   "execution_count": null,
   "id": "206289c7",
   "metadata": {},
   "outputs": [],
   "source": []
  }
 ],
 "metadata": {
  "kernelspec": {
   "display_name": "Python 3",
   "language": "python",
   "name": "python3"
  },
  "language_info": {
   "codemirror_mode": {
    "name": "ipython",
    "version": 3
   },
   "file_extension": ".py",
   "mimetype": "text/x-python",
   "name": "python",
   "nbconvert_exporter": "python",
   "pygments_lexer": "ipython3",
   "version": "3.8.8"
  }
 },
 "nbformat": 4,
 "nbformat_minor": 5
}
